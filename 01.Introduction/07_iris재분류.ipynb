{
 "metadata": {
  "language_info": {
   "codemirror_mode": {
    "name": "ipython",
    "version": 3
   },
   "file_extension": ".py",
   "mimetype": "text/x-python",
   "name": "python",
   "nbconvert_exporter": "python",
   "pygments_lexer": "ipython3",
   "version": "3.8.5"
  },
  "orig_nbformat": 4,
  "kernelspec": {
   "name": "python3",
   "display_name": "Python 3.8.5 64-bit ('base': conda)"
  },
  "interpreter": {
   "hash": "8c1eae21719a0790335dcb83aad72b63b602cfe5cdb2bda0f60bc11d4f154e4b"
  }
 },
 "nbformat": 4,
 "nbformat_minor": 2,
 "cells": [
  {
   "source": [
    "# Iris 분류\n",
    "- test 비율은 20%, random_state는 2021\n",
    "- MinMaxScaler 적용\n",
    "- cv=5\n",
    "- 결정트리 - max_depth, min_samples_split\n",
    "- 최적의 파라메터와 정확도 계산"
   ],
   "cell_type": "markdown",
   "metadata": {}
  },
  {
   "source": [
    "- 전처리"
   ],
   "cell_type": "markdown",
   "metadata": {}
  },
  {
   "cell_type": "code",
   "execution_count": 1,
   "metadata": {},
   "outputs": [],
   "source": [
    "from sklearn.datasets import load_iris\n",
    "iris = load_iris()"
   ]
  },
  {
   "cell_type": "code",
   "execution_count": 8,
   "metadata": {},
   "outputs": [],
   "source": [
    "# MinMaxScaler를 사용\n",
    "from sklearn.preprocessing import MinMaxScaler\n",
    "scaler = MinMaxScaler()\n",
    "iris_scaled = scaler.fit_transform(iris.data)"
   ]
  },
  {
   "source": [
    "- Train/Test data 분리"
   ],
   "cell_type": "markdown",
   "metadata": {}
  },
  {
   "cell_type": "code",
   "execution_count": 9,
   "metadata": {},
   "outputs": [],
   "source": [
    "from sklearn.model_selection import train_test_split\n",
    "X_train, X_test, y_train, y_test = train_test_split(\n",
    "    iris_scaled, iris.target, stratify=iris.target,test_size=0.2, random_state=2011\n",
    ")"
   ]
  },
  {
   "source": [
    "- 학습 후 최적 모델 도출"
   ],
   "cell_type": "markdown",
   "metadata": {}
  },
  {
   "cell_type": "code",
   "execution_count": 10,
   "metadata": {},
   "outputs": [],
   "source": [
    "from sklearn.tree import DecisionTreeClassifier\n",
    "from sklearn.model_selection import GridSearchCV"
   ]
  },
  {
   "cell_type": "code",
   "execution_count": 11,
   "metadata": {},
   "outputs": [],
   "source": [
    "params = {\n",
    "    'max_depth': [2,3,4],\n",
    "    'min_samples_split' : [1,2,3]\n",
    "}"
   ]
  },
  {
   "cell_type": "code",
   "execution_count": 12,
   "metadata": {},
   "outputs": [],
   "source": [
    "dtc = DecisionTreeClassifier(random_state=2021)\n",
    "grid_dtc = GridSearchCV(dtc, param_grid=params, cv=5, scoring='accuracy')"
   ]
  },
  {
   "cell_type": "code",
   "execution_count": 14,
   "metadata": {},
   "outputs": [
    {
     "output_type": "stream",
     "name": "stderr",
     "text": [
      "C:\\Users\\CPB06GameN\\miniconda3\\lib\\site-packages\\sklearn\\model_selection\\_validation.py:615: FitFailedWarning: Estimator fit failed. The score on this train-test partition for these parameters will be set to nan. Details: \nTraceback (most recent call last):\n  File \"C:\\Users\\CPB06GameN\\miniconda3\\lib\\site-packages\\sklearn\\model_selection\\_validation.py\", line 598, in _fit_and_score\n    estimator.fit(X_train, y_train, **fit_params)\n  File \"C:\\Users\\CPB06GameN\\miniconda3\\lib\\site-packages\\sklearn\\tree\\_classes.py\", line 903, in fit\n    super().fit(\n  File \"C:\\Users\\CPB06GameN\\miniconda3\\lib\\site-packages\\sklearn\\tree\\_classes.py\", line 238, in fit\n    raise ValueError(\"min_samples_split must be an integer \"\nValueError: min_samples_split must be an integer greater than 1 or a float in (0.0, 1.0]; got the integer 1\n\n  warnings.warn(\"Estimator fit failed. The score on this train-test\"\nC:\\Users\\CPB06GameN\\miniconda3\\lib\\site-packages\\sklearn\\model_selection\\_validation.py:615: FitFailedWarning: Estimator fit failed. The score on this train-test partition for these parameters will be set to nan. Details: \nTraceback (most recent call last):\n  File \"C:\\Users\\CPB06GameN\\miniconda3\\lib\\site-packages\\sklearn\\model_selection\\_validation.py\", line 598, in _fit_and_score\n    estimator.fit(X_train, y_train, **fit_params)\n  File \"C:\\Users\\CPB06GameN\\miniconda3\\lib\\site-packages\\sklearn\\tree\\_classes.py\", line 903, in fit\n    super().fit(\n  File \"C:\\Users\\CPB06GameN\\miniconda3\\lib\\site-packages\\sklearn\\tree\\_classes.py\", line 238, in fit\n    raise ValueError(\"min_samples_split must be an integer \"\nValueError: min_samples_split must be an integer greater than 1 or a float in (0.0, 1.0]; got the integer 1\n\n  warnings.warn(\"Estimator fit failed. The score on this train-test\"\nC:\\Users\\CPB06GameN\\miniconda3\\lib\\site-packages\\sklearn\\model_selection\\_validation.py:615: FitFailedWarning: Estimator fit failed. The score on this train-test partition for these parameters will be set to nan. Details: \nTraceback (most recent call last):\n  File \"C:\\Users\\CPB06GameN\\miniconda3\\lib\\site-packages\\sklearn\\model_selection\\_validation.py\", line 598, in _fit_and_score\n    estimator.fit(X_train, y_train, **fit_params)\n  File \"C:\\Users\\CPB06GameN\\miniconda3\\lib\\site-packages\\sklearn\\tree\\_classes.py\", line 903, in fit\n    super().fit(\n  File \"C:\\Users\\CPB06GameN\\miniconda3\\lib\\site-packages\\sklearn\\tree\\_classes.py\", line 238, in fit\n    raise ValueError(\"min_samples_split must be an integer \"\nValueError: min_samples_split must be an integer greater than 1 or a float in (0.0, 1.0]; got the integer 1\n\n  warnings.warn(\"Estimator fit failed. The score on this train-test\"\nC:\\Users\\CPB06GameN\\miniconda3\\lib\\site-packages\\sklearn\\model_selection\\_validation.py:615: FitFailedWarning: Estimator fit failed. The score on this train-test partition for these parameters will be set to nan. Details: \nTraceback (most recent call last):\n  File \"C:\\Users\\CPB06GameN\\miniconda3\\lib\\site-packages\\sklearn\\model_selection\\_validation.py\", line 598, in _fit_and_score\n    estimator.fit(X_train, y_train, **fit_params)\n  File \"C:\\Users\\CPB06GameN\\miniconda3\\lib\\site-packages\\sklearn\\tree\\_classes.py\", line 903, in fit\n    super().fit(\n  File \"C:\\Users\\CPB06GameN\\miniconda3\\lib\\site-packages\\sklearn\\tree\\_classes.py\", line 238, in fit\n    raise ValueError(\"min_samples_split must be an integer \"\nValueError: min_samples_split must be an integer greater than 1 or a float in (0.0, 1.0]; got the integer 1\n\n  warnings.warn(\"Estimator fit failed. The score on this train-test\"\nC:\\Users\\CPB06GameN\\miniconda3\\lib\\site-packages\\sklearn\\model_selection\\_validation.py:615: FitFailedWarning: Estimator fit failed. The score on this train-test partition for these parameters will be set to nan. Details: \nTraceback (most recent call last):\n  File \"C:\\Users\\CPB06GameN\\miniconda3\\lib\\site-packages\\sklearn\\model_selection\\_validation.py\", line 598, in _fit_and_score\n    estimator.fit(X_train, y_train, **fit_params)\n  File \"C:\\Users\\CPB06GameN\\miniconda3\\lib\\site-packages\\sklearn\\tree\\_classes.py\", line 903, in fit\n    super().fit(\n  File \"C:\\Users\\CPB06GameN\\miniconda3\\lib\\site-packages\\sklearn\\tree\\_classes.py\", line 238, in fit\n    raise ValueError(\"min_samples_split must be an integer \"\nValueError: min_samples_split must be an integer greater than 1 or a float in (0.0, 1.0]; got the integer 1\n\n  warnings.warn(\"Estimator fit failed. The score on this train-test\"\nC:\\Users\\CPB06GameN\\miniconda3\\lib\\site-packages\\sklearn\\model_selection\\_validation.py:615: FitFailedWarning: Estimator fit failed. The score on this train-test partition for these parameters will be set to nan. Details: \nTraceback (most recent call last):\n  File \"C:\\Users\\CPB06GameN\\miniconda3\\lib\\site-packages\\sklearn\\model_selection\\_validation.py\", line 598, in _fit_and_score\n    estimator.fit(X_train, y_train, **fit_params)\n  File \"C:\\Users\\CPB06GameN\\miniconda3\\lib\\site-packages\\sklearn\\tree\\_classes.py\", line 903, in fit\n    super().fit(\n  File \"C:\\Users\\CPB06GameN\\miniconda3\\lib\\site-packages\\sklearn\\tree\\_classes.py\", line 238, in fit\n    raise ValueError(\"min_samples_split must be an integer \"\nValueError: min_samples_split must be an integer greater than 1 or a float in (0.0, 1.0]; got the integer 1\n\n  warnings.warn(\"Estimator fit failed. The score on this train-test\"\nC:\\Users\\CPB06GameN\\miniconda3\\lib\\site-packages\\sklearn\\model_selection\\_validation.py:615: FitFailedWarning: Estimator fit failed. The score on this train-test partition for these parameters will be set to nan. Details: \nTraceback (most recent call last):\n  File \"C:\\Users\\CPB06GameN\\miniconda3\\lib\\site-packages\\sklearn\\model_selection\\_validation.py\", line 598, in _fit_and_score\n    estimator.fit(X_train, y_train, **fit_params)\n  File \"C:\\Users\\CPB06GameN\\miniconda3\\lib\\site-packages\\sklearn\\tree\\_classes.py\", line 903, in fit\n    super().fit(\n  File \"C:\\Users\\CPB06GameN\\miniconda3\\lib\\site-packages\\sklearn\\tree\\_classes.py\", line 238, in fit\n    raise ValueError(\"min_samples_split must be an integer \"\nValueError: min_samples_split must be an integer greater than 1 or a float in (0.0, 1.0]; got the integer 1\n\n  warnings.warn(\"Estimator fit failed. The score on this train-test\"\nC:\\Users\\CPB06GameN\\miniconda3\\lib\\site-packages\\sklearn\\model_selection\\_validation.py:615: FitFailedWarning: Estimator fit failed. The score on this train-test partition for these parameters will be set to nan. Details: \nTraceback (most recent call last):\n  File \"C:\\Users\\CPB06GameN\\miniconda3\\lib\\site-packages\\sklearn\\model_selection\\_validation.py\", line 598, in _fit_and_score\n    estimator.fit(X_train, y_train, **fit_params)\n  File \"C:\\Users\\CPB06GameN\\miniconda3\\lib\\site-packages\\sklearn\\tree\\_classes.py\", line 903, in fit\n    super().fit(\n  File \"C:\\Users\\CPB06GameN\\miniconda3\\lib\\site-packages\\sklearn\\tree\\_classes.py\", line 238, in fit\n    raise ValueError(\"min_samples_split must be an integer \"\nValueError: min_samples_split must be an integer greater than 1 or a float in (0.0, 1.0]; got the integer 1\n\n  warnings.warn(\"Estimator fit failed. The score on this train-test\"\nC:\\Users\\CPB06GameN\\miniconda3\\lib\\site-packages\\sklearn\\model_selection\\_validation.py:615: FitFailedWarning: Estimator fit failed. The score on this train-test partition for these parameters will be set to nan. Details: \nTraceback (most recent call last):\n  File \"C:\\Users\\CPB06GameN\\miniconda3\\lib\\site-packages\\sklearn\\model_selection\\_validation.py\", line 598, in _fit_and_score\n    estimator.fit(X_train, y_train, **fit_params)\n  File \"C:\\Users\\CPB06GameN\\miniconda3\\lib\\site-packages\\sklearn\\tree\\_classes.py\", line 903, in fit\n    super().fit(\n  File \"C:\\Users\\CPB06GameN\\miniconda3\\lib\\site-packages\\sklearn\\tree\\_classes.py\", line 238, in fit\n    raise ValueError(\"min_samples_split must be an integer \"\nValueError: min_samples_split must be an integer greater than 1 or a float in (0.0, 1.0]; got the integer 1\n\n  warnings.warn(\"Estimator fit failed. The score on this train-test\"\nC:\\Users\\CPB06GameN\\miniconda3\\lib\\site-packages\\sklearn\\model_selection\\_validation.py:615: FitFailedWarning: Estimator fit failed. The score on this train-test partition for these parameters will be set to nan. Details: \nTraceback (most recent call last):\n  File \"C:\\Users\\CPB06GameN\\miniconda3\\lib\\site-packages\\sklearn\\model_selection\\_validation.py\", line 598, in _fit_and_score\n    estimator.fit(X_train, y_train, **fit_params)\n  File \"C:\\Users\\CPB06GameN\\miniconda3\\lib\\site-packages\\sklearn\\tree\\_classes.py\", line 903, in fit\n    super().fit(\n  File \"C:\\Users\\CPB06GameN\\miniconda3\\lib\\site-packages\\sklearn\\tree\\_classes.py\", line 238, in fit\n    raise ValueError(\"min_samples_split must be an integer \"\nValueError: min_samples_split must be an integer greater than 1 or a float in (0.0, 1.0]; got the integer 1\n\n  warnings.warn(\"Estimator fit failed. The score on this train-test\"\nC:\\Users\\CPB06GameN\\miniconda3\\lib\\site-packages\\sklearn\\model_selection\\_validation.py:615: FitFailedWarning: Estimator fit failed. The score on this train-test partition for these parameters will be set to nan. Details: \nTraceback (most recent call last):\n  File \"C:\\Users\\CPB06GameN\\miniconda3\\lib\\site-packages\\sklearn\\model_selection\\_validation.py\", line 598, in _fit_and_score\n    estimator.fit(X_train, y_train, **fit_params)\n  File \"C:\\Users\\CPB06GameN\\miniconda3\\lib\\site-packages\\sklearn\\tree\\_classes.py\", line 903, in fit\n    super().fit(\n  File \"C:\\Users\\CPB06GameN\\miniconda3\\lib\\site-packages\\sklearn\\tree\\_classes.py\", line 238, in fit\n    raise ValueError(\"min_samples_split must be an integer \"\nValueError: min_samples_split must be an integer greater than 1 or a float in (0.0, 1.0]; got the integer 1\n\n  warnings.warn(\"Estimator fit failed. The score on this train-test\"\nC:\\Users\\CPB06GameN\\miniconda3\\lib\\site-packages\\sklearn\\model_selection\\_validation.py:615: FitFailedWarning: Estimator fit failed. The score on this train-test partition for these parameters will be set to nan. Details: \nTraceback (most recent call last):\n  File \"C:\\Users\\CPB06GameN\\miniconda3\\lib\\site-packages\\sklearn\\model_selection\\_validation.py\", line 598, in _fit_and_score\n    estimator.fit(X_train, y_train, **fit_params)\n  File \"C:\\Users\\CPB06GameN\\miniconda3\\lib\\site-packages\\sklearn\\tree\\_classes.py\", line 903, in fit\n    super().fit(\n  File \"C:\\Users\\CPB06GameN\\miniconda3\\lib\\site-packages\\sklearn\\tree\\_classes.py\", line 238, in fit\n    raise ValueError(\"min_samples_split must be an integer \"\nValueError: min_samples_split must be an integer greater than 1 or a float in (0.0, 1.0]; got the integer 1\n\n  warnings.warn(\"Estimator fit failed. The score on this train-test\"\nC:\\Users\\CPB06GameN\\miniconda3\\lib\\site-packages\\sklearn\\model_selection\\_validation.py:615: FitFailedWarning: Estimator fit failed. The score on this train-test partition for these parameters will be set to nan. Details: \nTraceback (most recent call last):\n  File \"C:\\Users\\CPB06GameN\\miniconda3\\lib\\site-packages\\sklearn\\model_selection\\_validation.py\", line 598, in _fit_and_score\n    estimator.fit(X_train, y_train, **fit_params)\n  File \"C:\\Users\\CPB06GameN\\miniconda3\\lib\\site-packages\\sklearn\\tree\\_classes.py\", line 903, in fit\n    super().fit(\n  File \"C:\\Users\\CPB06GameN\\miniconda3\\lib\\site-packages\\sklearn\\tree\\_classes.py\", line 238, in fit\n    raise ValueError(\"min_samples_split must be an integer \"\nValueError: min_samples_split must be an integer greater than 1 or a float in (0.0, 1.0]; got the integer 1\n\n  warnings.warn(\"Estimator fit failed. The score on this train-test\"\nC:\\Users\\CPB06GameN\\miniconda3\\lib\\site-packages\\sklearn\\model_selection\\_validation.py:615: FitFailedWarning: Estimator fit failed. The score on this train-test partition for these parameters will be set to nan. Details: \nTraceback (most recent call last):\n  File \"C:\\Users\\CPB06GameN\\miniconda3\\lib\\site-packages\\sklearn\\model_selection\\_validation.py\", line 598, in _fit_and_score\n    estimator.fit(X_train, y_train, **fit_params)\n  File \"C:\\Users\\CPB06GameN\\miniconda3\\lib\\site-packages\\sklearn\\tree\\_classes.py\", line 903, in fit\n    super().fit(\n  File \"C:\\Users\\CPB06GameN\\miniconda3\\lib\\site-packages\\sklearn\\tree\\_classes.py\", line 238, in fit\n    raise ValueError(\"min_samples_split must be an integer \"\nValueError: min_samples_split must be an integer greater than 1 or a float in (0.0, 1.0]; got the integer 1\n\n  warnings.warn(\"Estimator fit failed. The score on this train-test\"\nC:\\Users\\CPB06GameN\\miniconda3\\lib\\site-packages\\sklearn\\model_selection\\_validation.py:615: FitFailedWarning: Estimator fit failed. The score on this train-test partition for these parameters will be set to nan. Details: \nTraceback (most recent call last):\n  File \"C:\\Users\\CPB06GameN\\miniconda3\\lib\\site-packages\\sklearn\\model_selection\\_validation.py\", line 598, in _fit_and_score\n    estimator.fit(X_train, y_train, **fit_params)\n  File \"C:\\Users\\CPB06GameN\\miniconda3\\lib\\site-packages\\sklearn\\tree\\_classes.py\", line 903, in fit\n    super().fit(\n  File \"C:\\Users\\CPB06GameN\\miniconda3\\lib\\site-packages\\sklearn\\tree\\_classes.py\", line 238, in fit\n    raise ValueError(\"min_samples_split must be an integer \"\nValueError: min_samples_split must be an integer greater than 1 or a float in (0.0, 1.0]; got the integer 1\n\n  warnings.warn(\"Estimator fit failed. The score on this train-test\"\nC:\\Users\\CPB06GameN\\miniconda3\\lib\\site-packages\\sklearn\\model_selection\\_search.py:922: UserWarning: One or more of the test scores are non-finite: [       nan 0.95       0.95              nan 0.94166667 0.94166667\n        nan 0.93333333 0.93333333]\n  warnings.warn(\n"
     ]
    },
    {
     "output_type": "execute_result",
     "data": {
      "text/plain": [
       "0.95"
      ]
     },
     "metadata": {},
     "execution_count": 14
    }
   ],
   "source": [
    "# 학습하고 best_score확인\n",
    "grid_dtc.fit(X_train, y_train)\n",
    "grid_dtc.best_score_"
   ]
  },
  {
   "cell_type": "code",
   "execution_count": 15,
   "metadata": {},
   "outputs": [
    {
     "output_type": "execute_result",
     "data": {
      "text/plain": [
       "0.95"
      ]
     },
     "metadata": {},
     "execution_count": 15
    }
   ],
   "source": [
    "grid_dtc.best_score_"
   ]
  },
  {
   "cell_type": "code",
   "execution_count": 16,
   "metadata": {},
   "outputs": [
    {
     "output_type": "execute_result",
     "data": {
      "text/plain": [
       "{'max_depth': 2, 'min_samples_split': 2}"
      ]
     },
     "metadata": {},
     "execution_count": 16
    }
   ],
   "source": [
    "grid_dtc.best_params_"
   ]
  },
  {
   "cell_type": "code",
   "execution_count": 17,
   "metadata": {},
   "outputs": [],
   "source": [
    "estimator = grid_dtc.best_estimator_"
   ]
  },
  {
   "source": [
    "- 모델 평가"
   ],
   "cell_type": "markdown",
   "metadata": {}
  },
  {
   "cell_type": "code",
   "execution_count": 19,
   "metadata": {},
   "outputs": [
    {
     "output_type": "execute_result",
     "data": {
      "text/plain": [
       "0.9"
      ]
     },
     "metadata": {},
     "execution_count": 19
    }
   ],
   "source": [
    "from sklearn.metrics import accuracy_score\n",
    "pred = estimator.predict(X_test)\n",
    "accuracy_score(y_test, pred)"
   ]
  },
  {
   "source": [
    "### One-hot encoding을 하는 경우"
   ],
   "cell_type": "markdown",
   "metadata": {}
  },
  {
   "cell_type": "code",
   "execution_count": 20,
   "metadata": {},
   "outputs": [
    {
     "output_type": "execute_result",
     "data": {
      "text/plain": [
       "(150,)"
      ]
     },
     "metadata": {},
     "execution_count": 20
    }
   ],
   "source": [
    "iris.target.shape"
   ]
  },
  {
   "cell_type": "code",
   "execution_count": 21,
   "metadata": {},
   "outputs": [
    {
     "output_type": "execute_result",
     "data": {
      "text/plain": [
       "(150, 3)"
      ]
     },
     "metadata": {},
     "execution_count": 21
    }
   ],
   "source": [
    "from sklearn.preprocessing import OneHotEncoder\n",
    "encoder = OneHotEncoder()\n",
    "classes = encoder.fit_transform(iris.target.reshape(-1,1))\n",
    "classes.shape"
   ]
  },
  {
   "cell_type": "code",
   "execution_count": 23,
   "metadata": {},
   "outputs": [],
   "source": [
    "X_train, X_test, Y_train, Y_test = train_test_split(\n",
    "    iris_scaled, classes, stratify=iris.target,test_size=0.2, random_state=2011\n",
    ")"
   ]
  },
  {
   "cell_type": "code",
   "execution_count": 24,
   "metadata": {},
   "outputs": [
    {
     "output_type": "execute_result",
     "data": {
      "text/plain": [
       "((120, 4), (30, 4), (120, 3), (30, 3))"
      ]
     },
     "metadata": {},
     "execution_count": 24
    }
   ],
   "source": [
    "X_train.shape, X_test.shape, Y_train.shape, Y_test.shape"
   ]
  },
  {
   "cell_type": "code",
   "execution_count": 25,
   "metadata": {},
   "outputs": [
    {
     "output_type": "execute_result",
     "data": {
      "text/plain": [
       "array([[0., 1., 0.],\n",
       "       [0., 0., 1.],\n",
       "       [1., 0., 0.],\n",
       "       [0., 0., 1.],\n",
       "       [0., 1., 0.]])"
      ]
     },
     "metadata": {},
     "execution_count": 25
    }
   ],
   "source": [
    "Y_test[:5].toarray()"
   ]
  },
  {
   "cell_type": "code",
   "execution_count": 27,
   "metadata": {},
   "outputs": [],
   "source": [
    "dtc = DecisionTreeClassifier(random_state=2021)\n",
    "grid_dtc = GridSearchCV(dtc, param_grid=params, cv=5, scoring='accuracy')"
   ]
  },
  {
   "cell_type": "code",
   "execution_count": 29,
   "metadata": {},
   "outputs": [
    {
     "output_type": "stream",
     "name": "stderr",
     "text": [
      "C:\\Users\\CPB06GameN\\miniconda3\\lib\\site-packages\\sklearn\\model_selection\\_validation.py:615: FitFailedWarning: Estimator fit failed. The score on this train-test partition for these parameters will be set to nan. Details: \nTraceback (most recent call last):\n  File \"C:\\Users\\CPB06GameN\\miniconda3\\lib\\site-packages\\sklearn\\model_selection\\_validation.py\", line 598, in _fit_and_score\n    estimator.fit(X_train, y_train, **fit_params)\n  File \"C:\\Users\\CPB06GameN\\miniconda3\\lib\\site-packages\\sklearn\\tree\\_classes.py\", line 903, in fit\n    super().fit(\n  File \"C:\\Users\\CPB06GameN\\miniconda3\\lib\\site-packages\\sklearn\\tree\\_classes.py\", line 238, in fit\n    raise ValueError(\"min_samples_split must be an integer \"\nValueError: min_samples_split must be an integer greater than 1 or a float in (0.0, 1.0]; got the integer 1\n\n  warnings.warn(\"Estimator fit failed. The score on this train-test\"\nC:\\Users\\CPB06GameN\\miniconda3\\lib\\site-packages\\sklearn\\model_selection\\_validation.py:615: FitFailedWarning: Estimator fit failed. The score on this train-test partition for these parameters will be set to nan. Details: \nTraceback (most recent call last):\n  File \"C:\\Users\\CPB06GameN\\miniconda3\\lib\\site-packages\\sklearn\\model_selection\\_validation.py\", line 598, in _fit_and_score\n    estimator.fit(X_train, y_train, **fit_params)\n  File \"C:\\Users\\CPB06GameN\\miniconda3\\lib\\site-packages\\sklearn\\tree\\_classes.py\", line 903, in fit\n    super().fit(\n  File \"C:\\Users\\CPB06GameN\\miniconda3\\lib\\site-packages\\sklearn\\tree\\_classes.py\", line 238, in fit\n    raise ValueError(\"min_samples_split must be an integer \"\nValueError: min_samples_split must be an integer greater than 1 or a float in (0.0, 1.0]; got the integer 1\n\n  warnings.warn(\"Estimator fit failed. The score on this train-test\"\nC:\\Users\\CPB06GameN\\miniconda3\\lib\\site-packages\\sklearn\\model_selection\\_validation.py:615: FitFailedWarning: Estimator fit failed. The score on this train-test partition for these parameters will be set to nan. Details: \nTraceback (most recent call last):\n  File \"C:\\Users\\CPB06GameN\\miniconda3\\lib\\site-packages\\sklearn\\model_selection\\_validation.py\", line 598, in _fit_and_score\n    estimator.fit(X_train, y_train, **fit_params)\n  File \"C:\\Users\\CPB06GameN\\miniconda3\\lib\\site-packages\\sklearn\\tree\\_classes.py\", line 903, in fit\n    super().fit(\n  File \"C:\\Users\\CPB06GameN\\miniconda3\\lib\\site-packages\\sklearn\\tree\\_classes.py\", line 238, in fit\n    raise ValueError(\"min_samples_split must be an integer \"\nValueError: min_samples_split must be an integer greater than 1 or a float in (0.0, 1.0]; got the integer 1\n\n  warnings.warn(\"Estimator fit failed. The score on this train-test\"\nC:\\Users\\CPB06GameN\\miniconda3\\lib\\site-packages\\sklearn\\model_selection\\_validation.py:615: FitFailedWarning: Estimator fit failed. The score on this train-test partition for these parameters will be set to nan. Details: \nTraceback (most recent call last):\n  File \"C:\\Users\\CPB06GameN\\miniconda3\\lib\\site-packages\\sklearn\\model_selection\\_validation.py\", line 598, in _fit_and_score\n    estimator.fit(X_train, y_train, **fit_params)\n  File \"C:\\Users\\CPB06GameN\\miniconda3\\lib\\site-packages\\sklearn\\tree\\_classes.py\", line 903, in fit\n    super().fit(\n  File \"C:\\Users\\CPB06GameN\\miniconda3\\lib\\site-packages\\sklearn\\tree\\_classes.py\", line 238, in fit\n    raise ValueError(\"min_samples_split must be an integer \"\nValueError: min_samples_split must be an integer greater than 1 or a float in (0.0, 1.0]; got the integer 1\n\n  warnings.warn(\"Estimator fit failed. The score on this train-test\"\nC:\\Users\\CPB06GameN\\miniconda3\\lib\\site-packages\\sklearn\\model_selection\\_validation.py:615: FitFailedWarning: Estimator fit failed. The score on this train-test partition for these parameters will be set to nan. Details: \nTraceback (most recent call last):\n  File \"C:\\Users\\CPB06GameN\\miniconda3\\lib\\site-packages\\sklearn\\model_selection\\_validation.py\", line 598, in _fit_and_score\n    estimator.fit(X_train, y_train, **fit_params)\n  File \"C:\\Users\\CPB06GameN\\miniconda3\\lib\\site-packages\\sklearn\\tree\\_classes.py\", line 903, in fit\n    super().fit(\n  File \"C:\\Users\\CPB06GameN\\miniconda3\\lib\\site-packages\\sklearn\\tree\\_classes.py\", line 238, in fit\n    raise ValueError(\"min_samples_split must be an integer \"\nValueError: min_samples_split must be an integer greater than 1 or a float in (0.0, 1.0]; got the integer 1\n\n  warnings.warn(\"Estimator fit failed. The score on this train-test\"\nC:\\Users\\CPB06GameN\\miniconda3\\lib\\site-packages\\sklearn\\model_selection\\_validation.py:615: FitFailedWarning: Estimator fit failed. The score on this train-test partition for these parameters will be set to nan. Details: \nTraceback (most recent call last):\n  File \"C:\\Users\\CPB06GameN\\miniconda3\\lib\\site-packages\\sklearn\\model_selection\\_validation.py\", line 598, in _fit_and_score\n    estimator.fit(X_train, y_train, **fit_params)\n  File \"C:\\Users\\CPB06GameN\\miniconda3\\lib\\site-packages\\sklearn\\tree\\_classes.py\", line 903, in fit\n    super().fit(\n  File \"C:\\Users\\CPB06GameN\\miniconda3\\lib\\site-packages\\sklearn\\tree\\_classes.py\", line 238, in fit\n    raise ValueError(\"min_samples_split must be an integer \"\nValueError: min_samples_split must be an integer greater than 1 or a float in (0.0, 1.0]; got the integer 1\n\n  warnings.warn(\"Estimator fit failed. The score on this train-test\"\nC:\\Users\\CPB06GameN\\miniconda3\\lib\\site-packages\\sklearn\\model_selection\\_validation.py:615: FitFailedWarning: Estimator fit failed. The score on this train-test partition for these parameters will be set to nan. Details: \nTraceback (most recent call last):\n  File \"C:\\Users\\CPB06GameN\\miniconda3\\lib\\site-packages\\sklearn\\model_selection\\_validation.py\", line 598, in _fit_and_score\n    estimator.fit(X_train, y_train, **fit_params)\n  File \"C:\\Users\\CPB06GameN\\miniconda3\\lib\\site-packages\\sklearn\\tree\\_classes.py\", line 903, in fit\n    super().fit(\n  File \"C:\\Users\\CPB06GameN\\miniconda3\\lib\\site-packages\\sklearn\\tree\\_classes.py\", line 238, in fit\n    raise ValueError(\"min_samples_split must be an integer \"\nValueError: min_samples_split must be an integer greater than 1 or a float in (0.0, 1.0]; got the integer 1\n\n  warnings.warn(\"Estimator fit failed. The score on this train-test\"\nC:\\Users\\CPB06GameN\\miniconda3\\lib\\site-packages\\sklearn\\model_selection\\_validation.py:615: FitFailedWarning: Estimator fit failed. The score on this train-test partition for these parameters will be set to nan. Details: \nTraceback (most recent call last):\n  File \"C:\\Users\\CPB06GameN\\miniconda3\\lib\\site-packages\\sklearn\\model_selection\\_validation.py\", line 598, in _fit_and_score\n    estimator.fit(X_train, y_train, **fit_params)\n  File \"C:\\Users\\CPB06GameN\\miniconda3\\lib\\site-packages\\sklearn\\tree\\_classes.py\", line 903, in fit\n    super().fit(\n  File \"C:\\Users\\CPB06GameN\\miniconda3\\lib\\site-packages\\sklearn\\tree\\_classes.py\", line 238, in fit\n    raise ValueError(\"min_samples_split must be an integer \"\nValueError: min_samples_split must be an integer greater than 1 or a float in (0.0, 1.0]; got the integer 1\n\n  warnings.warn(\"Estimator fit failed. The score on this train-test\"\nC:\\Users\\CPB06GameN\\miniconda3\\lib\\site-packages\\sklearn\\model_selection\\_validation.py:615: FitFailedWarning: Estimator fit failed. The score on this train-test partition for these parameters will be set to nan. Details: \nTraceback (most recent call last):\n  File \"C:\\Users\\CPB06GameN\\miniconda3\\lib\\site-packages\\sklearn\\model_selection\\_validation.py\", line 598, in _fit_and_score\n    estimator.fit(X_train, y_train, **fit_params)\n  File \"C:\\Users\\CPB06GameN\\miniconda3\\lib\\site-packages\\sklearn\\tree\\_classes.py\", line 903, in fit\n    super().fit(\n  File \"C:\\Users\\CPB06GameN\\miniconda3\\lib\\site-packages\\sklearn\\tree\\_classes.py\", line 238, in fit\n    raise ValueError(\"min_samples_split must be an integer \"\nValueError: min_samples_split must be an integer greater than 1 or a float in (0.0, 1.0]; got the integer 1\n\n  warnings.warn(\"Estimator fit failed. The score on this train-test\"\nC:\\Users\\CPB06GameN\\miniconda3\\lib\\site-packages\\sklearn\\model_selection\\_validation.py:615: FitFailedWarning: Estimator fit failed. The score on this train-test partition for these parameters will be set to nan. Details: \nTraceback (most recent call last):\n  File \"C:\\Users\\CPB06GameN\\miniconda3\\lib\\site-packages\\sklearn\\model_selection\\_validation.py\", line 598, in _fit_and_score\n    estimator.fit(X_train, y_train, **fit_params)\n  File \"C:\\Users\\CPB06GameN\\miniconda3\\lib\\site-packages\\sklearn\\tree\\_classes.py\", line 903, in fit\n    super().fit(\n  File \"C:\\Users\\CPB06GameN\\miniconda3\\lib\\site-packages\\sklearn\\tree\\_classes.py\", line 238, in fit\n    raise ValueError(\"min_samples_split must be an integer \"\nValueError: min_samples_split must be an integer greater than 1 or a float in (0.0, 1.0]; got the integer 1\n\n  warnings.warn(\"Estimator fit failed. The score on this train-test\"\nC:\\Users\\CPB06GameN\\miniconda3\\lib\\site-packages\\sklearn\\model_selection\\_validation.py:615: FitFailedWarning: Estimator fit failed. The score on this train-test partition for these parameters will be set to nan. Details: \nTraceback (most recent call last):\n  File \"C:\\Users\\CPB06GameN\\miniconda3\\lib\\site-packages\\sklearn\\model_selection\\_validation.py\", line 598, in _fit_and_score\n    estimator.fit(X_train, y_train, **fit_params)\n  File \"C:\\Users\\CPB06GameN\\miniconda3\\lib\\site-packages\\sklearn\\tree\\_classes.py\", line 903, in fit\n    super().fit(\n  File \"C:\\Users\\CPB06GameN\\miniconda3\\lib\\site-packages\\sklearn\\tree\\_classes.py\", line 238, in fit\n    raise ValueError(\"min_samples_split must be an integer \"\nValueError: min_samples_split must be an integer greater than 1 or a float in (0.0, 1.0]; got the integer 1\n\n  warnings.warn(\"Estimator fit failed. The score on this train-test\"\nC:\\Users\\CPB06GameN\\miniconda3\\lib\\site-packages\\sklearn\\model_selection\\_validation.py:615: FitFailedWarning: Estimator fit failed. The score on this train-test partition for these parameters will be set to nan. Details: \nTraceback (most recent call last):\n  File \"C:\\Users\\CPB06GameN\\miniconda3\\lib\\site-packages\\sklearn\\model_selection\\_validation.py\", line 598, in _fit_and_score\n    estimator.fit(X_train, y_train, **fit_params)\n  File \"C:\\Users\\CPB06GameN\\miniconda3\\lib\\site-packages\\sklearn\\tree\\_classes.py\", line 903, in fit\n    super().fit(\n  File \"C:\\Users\\CPB06GameN\\miniconda3\\lib\\site-packages\\sklearn\\tree\\_classes.py\", line 238, in fit\n    raise ValueError(\"min_samples_split must be an integer \"\nValueError: min_samples_split must be an integer greater than 1 or a float in (0.0, 1.0]; got the integer 1\n\n  warnings.warn(\"Estimator fit failed. The score on this train-test\"\nC:\\Users\\CPB06GameN\\miniconda3\\lib\\site-packages\\sklearn\\model_selection\\_validation.py:615: FitFailedWarning: Estimator fit failed. The score on this train-test partition for these parameters will be set to nan. Details: \nTraceback (most recent call last):\n  File \"C:\\Users\\CPB06GameN\\miniconda3\\lib\\site-packages\\sklearn\\model_selection\\_validation.py\", line 598, in _fit_and_score\n    estimator.fit(X_train, y_train, **fit_params)\n  File \"C:\\Users\\CPB06GameN\\miniconda3\\lib\\site-packages\\sklearn\\tree\\_classes.py\", line 903, in fit\n    super().fit(\n  File \"C:\\Users\\CPB06GameN\\miniconda3\\lib\\site-packages\\sklearn\\tree\\_classes.py\", line 238, in fit\n    raise ValueError(\"min_samples_split must be an integer \"\nValueError: min_samples_split must be an integer greater than 1 or a float in (0.0, 1.0]; got the integer 1\n\n  warnings.warn(\"Estimator fit failed. The score on this train-test\"\nC:\\Users\\CPB06GameN\\miniconda3\\lib\\site-packages\\sklearn\\model_selection\\_validation.py:615: FitFailedWarning: Estimator fit failed. The score on this train-test partition for these parameters will be set to nan. Details: \nTraceback (most recent call last):\n  File \"C:\\Users\\CPB06GameN\\miniconda3\\lib\\site-packages\\sklearn\\model_selection\\_validation.py\", line 598, in _fit_and_score\n    estimator.fit(X_train, y_train, **fit_params)\n  File \"C:\\Users\\CPB06GameN\\miniconda3\\lib\\site-packages\\sklearn\\tree\\_classes.py\", line 903, in fit\n    super().fit(\n  File \"C:\\Users\\CPB06GameN\\miniconda3\\lib\\site-packages\\sklearn\\tree\\_classes.py\", line 238, in fit\n    raise ValueError(\"min_samples_split must be an integer \"\nValueError: min_samples_split must be an integer greater than 1 or a float in (0.0, 1.0]; got the integer 1\n\n  warnings.warn(\"Estimator fit failed. The score on this train-test\"\nC:\\Users\\CPB06GameN\\miniconda3\\lib\\site-packages\\sklearn\\model_selection\\_validation.py:615: FitFailedWarning: Estimator fit failed. The score on this train-test partition for these parameters will be set to nan. Details: \nTraceback (most recent call last):\n  File \"C:\\Users\\CPB06GameN\\miniconda3\\lib\\site-packages\\sklearn\\model_selection\\_validation.py\", line 598, in _fit_and_score\n    estimator.fit(X_train, y_train, **fit_params)\n  File \"C:\\Users\\CPB06GameN\\miniconda3\\lib\\site-packages\\sklearn\\tree\\_classes.py\", line 903, in fit\n    super().fit(\n  File \"C:\\Users\\CPB06GameN\\miniconda3\\lib\\site-packages\\sklearn\\tree\\_classes.py\", line 238, in fit\n    raise ValueError(\"min_samples_split must be an integer \"\nValueError: min_samples_split must be an integer greater than 1 or a float in (0.0, 1.0]; got the integer 1\n\n  warnings.warn(\"Estimator fit failed. The score on this train-test\"\nC:\\Users\\CPB06GameN\\miniconda3\\lib\\site-packages\\sklearn\\model_selection\\_search.py:922: UserWarning: One or more of the test scores are non-finite: [       nan 0.94166667 0.94166667        nan 0.95833333 0.95833333\n        nan 0.95       0.95      ]\n  warnings.warn(\n"
     ]
    },
    {
     "output_type": "execute_result",
     "data": {
      "text/plain": [
       "GridSearchCV(cv=5, estimator=DecisionTreeClassifier(random_state=2021),\n",
       "             param_grid={'max_depth': [2, 3, 4],\n",
       "                         'min_samples_split': [1, 2, 3]},\n",
       "             scoring='accuracy')"
      ]
     },
     "metadata": {},
     "execution_count": 29
    }
   ],
   "source": [
    "grid_dtc.fit(X_train, Y_train.toarray())"
   ]
  },
  {
   "cell_type": "code",
   "execution_count": null,
   "metadata": {},
   "outputs": [],
   "source": [
    "estimator = grid"
   ]
  }
 ]
}