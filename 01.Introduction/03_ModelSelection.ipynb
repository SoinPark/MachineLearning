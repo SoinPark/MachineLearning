{
 "metadata": {
  "language_info": {
   "codemirror_mode": {
    "name": "ipython",
    "version": 3
   },
   "file_extension": ".py",
   "mimetype": "text/x-python",
   "name": "python",
   "nbconvert_exporter": "python",
   "pygments_lexer": "ipython3",
   "version": "3.8.5"
  },
  "orig_nbformat": 4,
  "kernelspec": {
   "name": "python3",
   "display_name": "Python 3.8.5 64-bit ('base': conda)"
  },
  "interpreter": {
   "hash": "8c1eae21719a0790335dcb83aad72b63b602cfe5cdb2bda0f60bc11d4f154e4b"
  }
 },
 "nbformat": 4,
 "nbformat_minor": 2,
 "cells": [
  {
   "source": [
    "# Model Selection 모듈"
   ],
   "cell_type": "markdown",
   "metadata": {}
  },
  {
   "source": [
    "- Train/Test 데이터를 분리하지 않고 머신러닝 수행"
   ],
   "cell_type": "markdown",
   "metadata": {}
  },
  {
   "cell_type": "code",
   "execution_count": 3,
   "metadata": {},
   "outputs": [],
   "source": [
    "from sklearn.datasets import load_iris\n",
    "from sklearn.tree import DecisionTreeClassifier\n",
    "from sklearn.metrics import accuracy_score"
   ]
  },
  {
   "cell_type": "code",
   "execution_count": 5,
   "metadata": {},
   "outputs": [
    {
     "output_type": "execute_result",
     "data": {
      "text/plain": [
       "DecisionTreeClassifier()"
      ]
     },
     "metadata": {},
     "execution_count": 5
    }
   ],
   "source": [
    "iris = load_iris()\n",
    "dt_clf = DecisionTreeClassifier()\n",
    "dt_clf.fit(iris.data, iris.target)    # 분리하지않고 학습하기때문에 fit 사용"
   ]
  },
  {
   "cell_type": "code",
   "execution_count": 7,
   "metadata": {},
   "outputs": [
    {
     "output_type": "execute_result",
     "data": {
      "text/plain": [
       "1.0"
      ]
     },
     "metadata": {},
     "execution_count": 7
    }
   ],
   "source": [
    "pred = dt_clf.predict(iris.data)\n",
    "accuracy_score(iris.target, pred)"
   ]
  },
  {
   "source": [
    "- cross_validate() Method"
   ],
   "cell_type": "markdown",
   "metadata": {}
  },
  {
   "cell_type": "code",
   "execution_count": 8,
   "metadata": {},
   "outputs": [],
   "source": [
    "from sklearn.model_selection import cross_validate"
   ]
  },
  {
   "cell_type": "code",
   "execution_count": 9,
   "metadata": {},
   "outputs": [
    {
     "output_type": "execute_result",
     "data": {
      "text/plain": [
       "{'fit_time': array([0.00199151, 0.00099349, 0.        , 0.00099683, 0.00099826]),\n",
       " 'score_time': array([0.        , 0.        , 0.00099707, 0.        , 0.        ]),\n",
       " 'test_score': array([0.96666667, 0.96666667, 0.9       , 1.        , 1.        ])}"
      ]
     },
     "metadata": {},
     "execution_count": 9
    }
   ],
   "source": [
    "dtc = DecisionTreeClassifier()\n",
    "cross_validate(dtc, iris.data, iris.target)"
   ]
  },
  {
   "cell_type": "code",
   "execution_count": 10,
   "metadata": {},
   "outputs": [
    {
     "output_type": "execute_result",
     "data": {
      "text/plain": [
       "{'fit_time': array([0.        , 0.00104594, 0.0011282 , 0.00096083, 0.        ]),\n",
       " 'score_time': array([0.00099802, 0.        , 0.        , 0.        , 0.0009973 ]),\n",
       " 'test_score': array([0.96666667, 0.96666667, 0.9       , 1.        , 1.        ]),\n",
       " 'train_score': array([1., 1., 1., 1., 1.])}"
      ]
     },
     "metadata": {},
     "execution_count": 10
    }
   ],
   "source": [
    "dtc = DecisionTreeClassifier()\n",
    "cross_validate(dtc, iris.data, iris.target, return_train_score=True)    # return_train_Score=True 제약조건을 주지않았기때문에 다 나온다.....? 제대로 못들음...."
   ]
  },
  {
   "source": [
    "- Train/Test 데이터 셋을 분리"
   ],
   "cell_type": "markdown",
   "metadata": {}
  },
  {
   "cell_type": "code",
   "execution_count": 11,
   "metadata": {},
   "outputs": [],
   "source": [
    "from sklearn.model_selection import train_test_split"
   ]
  },
  {
   "cell_type": "code",
   "execution_count": 12,
   "metadata": {},
   "outputs": [],
   "source": [
    "X_train, X_test, y_train, y_test = train_test_split(\n",
    "    iris.data, iris.target, train_size=0.2, random_state=2021\n",
    ")"
   ]
  },
  {
   "cell_type": "code",
   "execution_count": 13,
   "metadata": {},
   "outputs": [
    {
     "output_type": "execute_result",
     "data": {
      "text/plain": [
       "0    41\n",
       "1    41\n",
       "2    38\n",
       "dtype: int64"
      ]
     },
     "metadata": {},
     "execution_count": 13
    }
   ],
   "source": [
    "import pandas as pd\n",
    "pd.Series(y_test).value_counts()"
   ]
  },
  {
   "source": [
    "- Stratified 분리"
   ],
   "cell_type": "markdown",
   "metadata": {}
  },
  {
   "cell_type": "code",
   "execution_count": 14,
   "metadata": {},
   "outputs": [
    {
     "output_type": "execute_result",
     "data": {
      "text/plain": [
       "0    40\n",
       "1    40\n",
       "2    40\n",
       "dtype: int64"
      ]
     },
     "metadata": {},
     "execution_count": 14
    }
   ],
   "source": [
    "X_train, X_test, y_train, y_test = train_test_split(\n",
    "    iris.data, iris.target, train_size=0.2, random_state=2021,\n",
    "    stratify=iris.target\n",
    ")           # y값에 따른 분포\n",
    "pd.Series(y_test).value_counts()"
   ]
  },
  {
   "source": [
    "- cross_val_score() Method"
   ],
   "cell_type": "markdown",
   "metadata": {}
  },
  {
   "cell_type": "code",
   "execution_count": 15,
   "metadata": {},
   "outputs": [],
   "source": [
    "from sklearn.model_selection import cross_val_score"
   ]
  },
  {
   "cell_type": "code",
   "execution_count": 16,
   "metadata": {},
   "outputs": [
    {
     "output_type": "execute_result",
     "data": {
      "text/plain": [
       "array([0.96666667, 0.96666667, 0.9       , 1.        , 1.        ])"
      ]
     },
     "metadata": {},
     "execution_count": 16
    }
   ],
   "source": [
    "# 성능 지표는 정확도(accuracy), 교차검증 세트는 5개\n",
    "cross_val_score(dtc, iris.data, iris.target, cv=5)"
   ]
  },
  {
   "cell_type": "code",
   "execution_count": 17,
   "metadata": {},
   "outputs": [
    {
     "output_type": "execute_result",
     "data": {
      "text/plain": [
       "0.9666666666666668"
      ]
     },
     "metadata": {},
     "execution_count": 17
    }
   ],
   "source": [
    "import numpy as np\n",
    "scores = cross_val_score(dtc, iris.data, iris.target, cv=5)\n",
    "np.mean(scores)"
   ]
  },
  {
   "source": [
    "### GridSearchCV\n",
    "- 교차 검증과 최적 하이퍼 파라메터 튜닝을 한꺼번에 수행\n",
    "- 제일 많이 사용하고 활용도가 높음"
   ],
   "cell_type": "markdown",
   "metadata": {}
  },
  {
   "cell_type": "code",
   "execution_count": 21,
   "metadata": {},
   "outputs": [],
   "source": [
    "dtc = DecisionTreeClassifier(random_state=2021)"
   ]
  },
  {
   "cell_type": "code",
   "execution_count": 24,
   "metadata": {},
   "outputs": [],
   "source": [
    "# parameter를 dictionary 형태로 설정\n",
    "params = {\n",
    "    'max_depth': [2, 3, 4, 5],\n",
    "    'min_samples_split': [2, 3]\n",
    "}   # depth에 제한을 안주면 무한정으로 내려가버림 ,그래서 제약조건을 줌"
   ]
  },
  {
   "cell_type": "code",
   "execution_count": 25,
   "metadata": {},
   "outputs": [],
   "source": [
    "from sklearn.model_selection import GridSearchCV\n",
    "grid_dtc = GridSearchCV(dtc, param_grid=params, cv=3)"
   ]
  },
  {
   "cell_type": "code",
   "execution_count": 26,
   "metadata": {},
   "outputs": [
    {
     "output_type": "execute_result",
     "data": {
      "text/plain": [
       "GridSearchCV(cv=3, estimator=DecisionTreeClassifier(random_state=2021),\n",
       "             param_grid={'max_depth': [2, 3, 4, 5],\n",
       "                         'min_samples_split': [2, 3]})"
      ]
     },
     "metadata": {},
     "execution_count": 26
    }
   ],
   "source": [
    "grid_dtc.fit(X_train, y_train)      # 이게 estimate라고 가정하고 구한다..."
   ]
  },
  {
   "cell_type": "code",
   "execution_count": 31,
   "metadata": {},
   "outputs": [
    {
     "output_type": "execute_result",
     "data": {
      "text/plain": [
       "{'mean_fit_time': array([0.00170159, 0.00082517, 0.00066511, 0.00099715, 0.00066471,\n",
       "        0.00066495, 0.0009973 , 0.00033243]),\n",
       " 'std_fit_time': array([4.26138291e-04, 2.00184830e-04, 4.70302885e-04, 2.24783192e-07,\n",
       "        4.70021816e-04, 4.70190252e-04, 1.94667955e-07, 4.70134046e-04]),\n",
       " 'mean_score_time': array([0.00041779, 0.00034571, 0.00033267, 0.00033236, 0.00033251,\n",
       "        0.        , 0.        , 0.00066495]),\n",
       " 'std_score_time': array([0.00059084, 0.0004889 , 0.00047047, 0.00047002, 0.00047025,\n",
       "        0.        , 0.        , 0.00047019]),\n",
       " 'param_max_depth': masked_array(data=[2, 2, 3, 3, 4, 4, 5, 5],\n",
       "              mask=[False, False, False, False, False, False, False, False],\n",
       "        fill_value='?',\n",
       "             dtype=object),\n",
       " 'param_min_samples_split': masked_array(data=[2, 3, 2, 3, 2, 3, 2, 3],\n",
       "              mask=[False, False, False, False, False, False, False, False],\n",
       "        fill_value='?',\n",
       "             dtype=object),\n",
       " 'params': [{'max_depth': 2, 'min_samples_split': 2},\n",
       "  {'max_depth': 2, 'min_samples_split': 3},\n",
       "  {'max_depth': 3, 'min_samples_split': 2},\n",
       "  {'max_depth': 3, 'min_samples_split': 3},\n",
       "  {'max_depth': 4, 'min_samples_split': 2},\n",
       "  {'max_depth': 4, 'min_samples_split': 3},\n",
       "  {'max_depth': 5, 'min_samples_split': 2},\n",
       "  {'max_depth': 5, 'min_samples_split': 3}],\n",
       " 'split0_test_score': array([1., 1., 1., 1., 1., 1., 1., 1.]),\n",
       " 'split1_test_score': array([0.9, 0.9, 0.9, 0.9, 0.9, 0.9, 0.9, 0.9]),\n",
       " 'split2_test_score': array([1., 1., 1., 1., 1., 1., 1., 1.]),\n",
       " 'mean_test_score': array([0.96666667, 0.96666667, 0.96666667, 0.96666667, 0.96666667,\n",
       "        0.96666667, 0.96666667, 0.96666667]),\n",
       " 'std_test_score': array([0.04714045, 0.04714045, 0.04714045, 0.04714045, 0.04714045,\n",
       "        0.04714045, 0.04714045, 0.04714045]),\n",
       " 'rank_test_score': array([1, 1, 1, 1, 1, 1, 1, 1])}"
      ]
     },
     "metadata": {},
     "execution_count": 31
    }
   ],
   "source": [
    "grid_dtc.cv_results_"
   ]
  },
  {
   "cell_type": "code",
   "execution_count": 27,
   "metadata": {},
   "outputs": [
    {
     "output_type": "execute_result",
     "data": {
      "text/plain": [
       "{'max_depth': 2, 'min_samples_split': 2}"
      ]
     },
     "metadata": {},
     "execution_count": 27
    }
   ],
   "source": [
    "# 최적 파라미터\n",
    "grid_dtc.best_params_"
   ]
  },
  {
   "cell_type": "code",
   "execution_count": 28,
   "metadata": {},
   "outputs": [
    {
     "output_type": "execute_result",
     "data": {
      "text/plain": [
       "0.9666666666666667"
      ]
     },
     "metadata": {},
     "execution_count": 28
    }
   ],
   "source": [
    "# 최고 정확도\n",
    "grid_dtc.best_score_"
   ]
  },
  {
   "cell_type": "code",
   "execution_count": 30,
   "metadata": {},
   "outputs": [
    {
     "output_type": "execute_result",
     "data": {
      "text/plain": [
       "0.9583333333333334"
      ]
     },
     "metadata": {},
     "execution_count": 30
    }
   ],
   "source": [
    "# 최고 정확도를 가지는 최적 파라미터로 학습한 estimator\n",
    "best_estimator = grid_dtc.best_estimator_\n",
    "best_estimator.score(X_test, y_test)"
   ]
  },
  {
   "cell_type": "code",
   "execution_count": null,
   "metadata": {},
   "outputs": [],
   "source": [
    " "
   ]
  }
 ]
}